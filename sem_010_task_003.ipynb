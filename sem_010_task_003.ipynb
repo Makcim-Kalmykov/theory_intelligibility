{
 "cells": [
  {
   "attachments": {},
   "cell_type": "markdown",
   "metadata": {},
   "source": [
    "Даны веса пациентов до и после диеты. Веса распределены нормально\n",
    "До 92.8 , 95.6, 92.1, 100.6, 96.2, 92.1, 96.7, 97.6, 97.0, 93.9\n",
    "После 87.1, 84.1, 81.3, 77.0, 86.0, 82.9, 83.0, 85.5, 85.2, 84.6\n",
    "Проверить гипотезу о, том что средний вес пациентов после диеты статистически\n",
    "меньше веса до диеты\n",
    "1) Используйте alternative='greater‘\n",
    "2) alternative=‘less‘\n",
    "3) 'two-sided'\n",
    "Объясните полученные результаты p-value для каждого случая"
   ]
  },
  {
   "cell_type": "code",
   "execution_count": 1,
   "metadata": {},
   "outputs": [],
   "source": [
    "import numpy as np\n",
    "import scipy.stats as stats"
   ]
  },
  {
   "cell_type": "code",
   "execution_count": 2,
   "metadata": {},
   "outputs": [],
   "source": [
    "# H1: математическое ожиданине не равно. Двухсторонняя альтернативная гипотеза \n",
    "X = np.array([92.8 , 95.6, 92.1, 100.6, 96.2, 92.1, 96.7, 97.6, 97.0, 93.9])\n",
    "Y = np.array([87.1, 84.1, 81.3, 77.0, 86.0, 82.9, 83.0, 85.5, 85.2, 84.6])\n",
    "ALPHA = 0.05"
   ]
  },
  {
   "cell_type": "code",
   "execution_count": 3,
   "metadata": {},
   "outputs": [
    {
     "name": "stdout",
     "output_type": "stream",
     "text": [
      "TtestResult(statistic=7.972831441034037, pvalue=2.274442744681604e-05, df=9)\n"
     ]
    },
    {
     "data": {
      "text/plain": [
       "False"
      ]
     },
     "execution_count": 3,
     "metadata": {},
     "output_type": "execute_result"
    }
   ],
   "source": [
    "# дисперсия не дана. Будем использовать критерий Стьюдента. Выборки зависимые\n",
    "print(stats.ttest_rel(X, Y))\n",
    "stats.ttest_rel(X, Y).pvalue > ALPHA\n",
    "# False -> pvalue < alpha -> H0 отвергается -> вес до диеты и после не равен! "
   ]
  },
  {
   "attachments": {},
   "cell_type": "markdown",
   "metadata": {},
   "source": [
    "Приведем другую альтернативную гипотезу H1 -> вес снизился"
   ]
  },
  {
   "cell_type": "code",
   "execution_count": 10,
   "metadata": {},
   "outputs": [
    {
     "name": "stdout",
     "output_type": "stream",
     "text": [
      "TtestResult(statistic=7.972831441034037, pvalue=0.9999886277862766, df=9)\n"
     ]
    },
    {
     "data": {
      "text/plain": [
       "True"
      ]
     },
     "execution_count": 10,
     "metadata": {},
     "output_type": "execute_result"
    }
   ],
   "source": [
    "# применяем левостороннюю критическую обасть и получаем не совсем понятные выводы\n",
    "print(stats.ttest_rel(X, Y, alternative='less'))\n",
    "stats.ttest_rel(X, Y, alternative='less').pvalue > ALPHA\n",
    "# H0 = нюX = нюY\n",
    "# H1 = нюX < нюY    нюX - вес до диеты, нюY - вес полсе диеты"
   ]
  },
  {
   "cell_type": "code",
   "execution_count": 11,
   "metadata": {},
   "outputs": [
    {
     "name": "stdout",
     "output_type": "stream",
     "text": [
      "TtestResult(statistic=7.972831441034037, pvalue=0.9999886277862766, df=9)\n"
     ]
    },
    {
     "data": {
      "text/plain": [
       "False"
      ]
     },
     "execution_count": 11,
     "metadata": {},
     "output_type": "execute_result"
    }
   ],
   "source": [
    "# применим правостороннюю критическую обалсть\n",
    "print(stats.ttest_rel(X, Y, alternative='less'))\n",
    "stats.ttest_rel(X, Y, alternative='greater').pvalue > ALPHA\n",
    "\n",
    "# H1 -> нюX > нюY или вес полсе диеты меньше чем вес до диеты. pvalue > value -> H0 отвергается"
   ]
  }
 ],
 "metadata": {
  "kernelspec": {
   "display_name": "Python 3",
   "language": "python",
   "name": "python3"
  },
  "language_info": {
   "codemirror_mode": {
    "name": "ipython",
    "version": 3
   },
   "file_extension": ".py",
   "mimetype": "text/x-python",
   "name": "python",
   "nbconvert_exporter": "python",
   "pygments_lexer": "ipython3",
   "version": "3.11.2"
  },
  "orig_nbformat": 4
 },
 "nbformat": 4,
 "nbformat_minor": 2
}
