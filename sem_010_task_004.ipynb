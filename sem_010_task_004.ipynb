{
 "cells": [
  {
   "attachments": {},
   "cell_type": "markdown",
   "metadata": {},
   "source": [
    "ДОВЕРИТЕЛЬНЫЙ ИНТЕРВАЛ РАЗНОСТИ ДОЛЕЙ\n",
    "В одной группе из 100 больных наблюдалось улучшение у 75, а в другой из 100 больных\n",
    "среди 69. Оценить с помощью доверительного интервала разность долей больных, у\n",
    "которых наблюдались улучшения. Доверительная вероятность 5%\n",
    "\n",
    "delta +- S_delta * Z_alpa/2"
   ]
  },
  {
   "cell_type": "code",
   "execution_count": 1,
   "metadata": {},
   "outputs": [],
   "source": [
    "import numpy as np\n",
    "import scipy.stats as stats"
   ]
  },
  {
   "cell_type": "code",
   "execution_count": 8,
   "metadata": {},
   "outputs": [
    {
     "name": "stdout",
     "output_type": "stream",
     "text": [
      "0.06349803146555018\n",
      "-0.06445614167247829 0.1844561416724784\n"
     ]
    }
   ],
   "source": [
    "m1 = 75\n",
    "m2 = 69\n",
    "n1 = 100\n",
    "n2 = 100\n",
    "\n",
    "delta = 0.75 - 0.69\n",
    "p = (m1 + m2)/(n1 + n2)\n",
    "S_delta = np.sqrt(p*(1 -p)*(1/n1 + 1/n2))\n",
    "print(S_delta)\n",
    "min = delta - S_delta * 1.96\n",
    "max = delta + S_delta * 1.96\n",
    "print(min, max)"
   ]
  },
  {
   "attachments": {},
   "cell_type": "markdown",
   "metadata": {},
   "source": [
    "Делаем вывод: 0 принадлежит интервалу -> статистически значимой разницы нет "
   ]
  }
 ],
 "metadata": {
  "kernelspec": {
   "display_name": "Python 3",
   "language": "python",
   "name": "python3"
  },
  "language_info": {
   "codemirror_mode": {
    "name": "ipython",
    "version": 3
   },
   "file_extension": ".py",
   "mimetype": "text/x-python",
   "name": "python",
   "nbconvert_exporter": "python",
   "pygments_lexer": "ipython3",
   "version": "3.11.2"
  },
  "orig_nbformat": 4
 },
 "nbformat": 4,
 "nbformat_minor": 2
}
