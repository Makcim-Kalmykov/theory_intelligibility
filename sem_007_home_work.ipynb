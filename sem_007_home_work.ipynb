{
 "cells": [
  {
   "cell_type": "code",
   "execution_count": 1,
   "metadata": {},
   "outputs": [],
   "source": [
    "import numpy as np\n",
    "import scipy.stats as stats"
   ]
  },
  {
   "attachments": {},
   "cell_type": "markdown",
   "metadata": {},
   "source": [
    "Задача 1. Даны две независимые выборки. Не соблюдается условие нормальности\n",
    "    x1 380,420, 290\n",
    "    y1 140,360,200,900\n",
    "    Сделайте вывод по результатам, полученным с помощью функции, имеются ли статистические различия между группами?"
   ]
  },
  {
   "cell_type": "code",
   "execution_count": 2,
   "metadata": {},
   "outputs": [
    {
     "name": "stdout",
     "output_type": "stream",
     "text": [
      "MannwhitneyuResult(statistic=8.0, pvalue=0.6285714285714286)\n"
     ]
    }
   ],
   "source": [
    "x1 = [380, 420, 290]\n",
    "y1 = [140, 360, 200, 900]\n",
    "print(stats.mannwhitneyu(x1, y1))"
   ]
  },
  {
   "attachments": {},
   "cell_type": "markdown",
   "metadata": {},
   "source": [
    "alue > alpha (0.63 > 0.05). Статистичеpvских различий нет."
   ]
  },
  {
   "attachments": {},
   "cell_type": "markdown",
   "metadata": {},
   "source": [
    "Задача 2. Исследовалось влияние препарата на уровень давления пациентов. Сначала\n",
    "    измерялось давление до приема препарата, потом через 10 минут и через 30 минут. Есть\n",
    "    ли статистически значимые различия между измерениями давления? В выборках не соблюдается условие нормальности.\n",
    "    1е измерение до приема препарата: 150, 160, 165, 145, 155\n",
    "    2е измерение через 10 минут: 140, 155, 150, 130, 135\n",
    "    3е измерение через 30 минут: 130, 130, 120, 130, 125"
   ]
  },
  {
   "cell_type": "code",
   "execution_count": 3,
   "metadata": {},
   "outputs": [
    {
     "name": "stdout",
     "output_type": "stream",
     "text": [
      "FriedmanchisquareResult(statistic=9.578947368421062, pvalue=0.00831683351100441)\n"
     ]
    }
   ],
   "source": [
    "gr1 = [150, 160, 165, 145, 155]\n",
    "gr2 = [140, 155, 150, 130, 135]\n",
    "gr3 = [130, 130, 120, 130, 125]\n",
    "print(stats.friedmanchisquare(gr1, gr2, gr3))"
   ]
  },
  {
   "attachments": {},
   "cell_type": "markdown",
   "metadata": {},
   "source": [
    "palue < alpha (0.008 > 0.05). Статистические различия есть. Отвергаем гипотезу H1"
   ]
  },
  {
   "attachments": {},
   "cell_type": "markdown",
   "metadata": {},
   "source": [
    "Задача 3. Сравните 1 и 2 е измерения, предполагая, что 3го измерения через 30 минут не было. Есть\n",
    "    ли статистически значимые различия между измерениями давления?"
   ]
  },
  {
   "cell_type": "code",
   "execution_count": 4,
   "metadata": {},
   "outputs": [
    {
     "name": "stdout",
     "output_type": "stream",
     "text": [
      "WilcoxonResult(statistic=0.0, pvalue=0.0625)\n"
     ]
    }
   ],
   "source": [
    "gr1 = [150, 160, 165, 145, 155]\n",
    "gr2 = [140, 155, 150, 130, 135]\n",
    "print(stats.wilcoxon(gr1, gr2))"
   ]
  },
  {
   "attachments": {},
   "cell_type": "markdown",
   "metadata": {},
   "source": [
    "palue > alpha (0.06 > 0.05). Статистических различий нет"
   ]
  },
  {
   "attachments": {},
   "cell_type": "markdown",
   "metadata": {},
   "source": [
    "Задача 4. Даны 3 группы учеников плавания. Не соблюдается условие нормальности.\n",
    "    В 1 группе время на дистанцию 50 м составляют:\n",
    "    56, 60, 62, 55, 71, 67, 59, 58, 64, 67\n",
    "    Вторая группа : 57, 58, 69, 48, 72, 70, 68, 71, 50, 53\n",
    "    Третья группа: 57, 67, 49, 48, 47, 55, 66, 51, 54\n",
    "    Есть\n",
    "    ли статистически значимые различия между группами?"
   ]
  },
  {
   "cell_type": "code",
   "execution_count": 5,
   "metadata": {},
   "outputs": [
    {
     "name": "stdout",
     "output_type": "stream",
     "text": [
      "KruskalResult(statistic=5.465564058257224, pvalue=0.06503809985904942)\n"
     ]
    }
   ],
   "source": [
    "gr1 = [56, 60, 62, 55, 71, 67, 59, 58, 64, 67]\n",
    "gr2 = [57, 58, 69, 48, 72, 70, 68, 71, 50, 53]\n",
    "gr3 = [57, 67, 49, 48, 47, 55, 66, 51, 54]\n",
    "print(stats.kruskal(gr1, gr2, gr3))"
   ]
  },
  {
   "attachments": {},
   "cell_type": "markdown",
   "metadata": {},
   "source": [
    "palue > alpha (0.06 > 0.05). Статистических различий нет"
   ]
  },
  {
   "attachments": {},
   "cell_type": "markdown",
   "metadata": {},
   "source": [
    "Задача 5. Заявляется, что партия изготавливается со средним арифметическим 2,5 см. Проверить\n",
    "    данную гипотезу, если известно, что размеры изделий подчинены нормальному закону\n",
    "    распределения. Объем выборки 10, уровень статистической значимости 5%\n",
    "    2.51, 2.35, 2.74, 2.56, 2.40, 2.36, 2.65, 2.7, 2.67, 2.34"
   ]
  },
  {
   "cell_type": "code",
   "execution_count": 2,
   "metadata": {},
   "outputs": [
    {
     "name": "stdout",
     "output_type": "stream",
     "text": [
      "0.5630613661802959 1.8331129326536333\n"
     ]
    }
   ],
   "source": [
    "x = [2.51, 2.35, 2.74, 2.56, 2.40, 2.36, 2.65, 2.7, 2.67, 2.34]\n",
    "alpha = 0.05\n",
    "n = len(x)\n",
    "srednee = np.mean(x)\n",
    "s = np.std(x, ddof=1)\n",
    "t_n = (srednee - 2.5)/(s/np.sqrt(n))\n",
    "t_kr = stats.t.ppf(1 - alpha, n - 1)\n",
    "print(t_n, t_kr)"
   ]
  },
  {
   "attachments": {},
   "cell_type": "markdown",
   "metadata": {},
   "source": [
    "T_кр > Т_н. Н0 не отвергается "
   ]
  }
 ],
 "metadata": {
  "kernelspec": {
   "display_name": "Python 3",
   "language": "python",
   "name": "python3"
  },
  "language_info": {
   "codemirror_mode": {
    "name": "ipython",
    "version": 3
   },
   "file_extension": ".py",
   "mimetype": "text/x-python",
   "name": "python",
   "nbconvert_exporter": "python",
   "pygments_lexer": "ipython3",
   "version": "3.10.10"
  },
  "orig_nbformat": 4
 },
 "nbformat": 4,
 "nbformat_minor": 2
}
